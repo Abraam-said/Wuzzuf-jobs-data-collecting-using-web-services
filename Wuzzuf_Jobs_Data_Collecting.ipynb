{
 "cells": [
  {
   "cell_type": "code",
   "execution_count": 1,
   "id": "48d3bc66",
   "metadata": {},
   "outputs": [],
   "source": [
    "import requests\n",
    "from bs4 import BeautifulSoup\n",
    "import csv"
   ]
  },
  {
   "cell_type": "code",
   "execution_count": 98,
   "id": "e640d3bc",
   "metadata": {},
   "outputs": [
    {
     "name": "stdout",
     "output_type": "stream",
     "text": [
      "0\n",
      "1\n",
      "2\n",
      "3\n",
      "4\n",
      "5\n",
      "6\n",
      "7\n",
      "8\n",
      "9\n",
      "10\n",
      "11\n",
      "12\n",
      "13\n",
      "14\n",
      "15\n",
      "16\n",
      "17\n",
      "18\n",
      "19\n",
      "20\n",
      "21\n",
      "22\n",
      "23\n",
      "24\n",
      "25\n",
      "26\n",
      "27\n",
      "28\n",
      "29\n",
      "30\n",
      "31\n"
     ]
    }
   ],
   "source": [
    "page_index = 0\n",
    "data = []\n",
    "while True:\n",
    "    print(page_index)\n",
    "    url = f'https://wuzzuf.net/search/jobs/?a=hpb&q=data%20science&start={page_index}'\n",
    "    request = requests.get(url)\n",
    "    soup = BeautifulSoup(request.text, \"html.parser\")\n",
    "    all_jobs = soup.find_all('div', attrs={\n",
    "        'class': 'css-pkv5jc'\n",
    "    })\n",
    "    \n",
    "    #for style in soup.find_all('style'):\n",
    "    #style.extract()\n",
    "    for job in all_jobs:   \n",
    "        card = job.find('a', attrs={\n",
    "            'target':'_blank',\n",
    "            'class':'css-o171kl'\n",
    "        })\n",
    "        link = 'https://wuzzuf.net/'+ card.get('href')\n",
    "        title = card.get_text()\n",
    "        location = job.find('span', attrs={\n",
    "            'class': 'css-5wys0k'\n",
    "        }).get_text()\n",
    "\n",
    "        company_name = job.find('a', attrs={\n",
    "            'class': 'css-17s97q8'\n",
    "        }).get_text()\n",
    "\n",
    "        job_type = job.find('a', attrs={\n",
    "        'class': 'css-n2jc4m'\n",
    "        }).get_text().split(';}')[-1]\n",
    "\n",
    "        description = job.find('div', attrs={\n",
    "            'class': 'css-y4udm8'\n",
    "        }).get_text().split(';}')[-1]\n",
    "\n",
    "        if not(job_type in description):\n",
    "            description = job_type + ' ' + description\n",
    "        else:\n",
    "            description = job_type + ' ' + description[len(job_type):]\n",
    "\n",
    "        post_time = job.find('div', attrs={\n",
    "            'class': ['css-do6t5g', 'css-4c4ojb']\n",
    "        }).get_text()\n",
    "        \n",
    "        data.append([link, title, location, company_name, description, post_time])\n",
    "\n",
    "\n",
    "    jobs_pages_info = soup.find('li', attrs={\n",
    "        'class':'css-8neukt'\n",
    "    }).get_text()\n",
    "\n",
    "    \n",
    "    number_of_all_jobs = int(jobs_pages_info.split('of')[-1])\n",
    "    \n",
    "    number_of_current_jobs = int(jobs_pages_info.split('of')[0].split('-')[-1])\n",
    "    \n",
    "    if number_of_current_jobs ==  number_of_all_jobs:\n",
    "        break\n",
    "        \n",
    "    page_index += 1\n",
    "\n"
   ]
  },
  {
   "cell_type": "code",
   "execution_count": 99,
   "id": "294372df",
   "metadata": {},
   "outputs": [
    {
     "data": {
      "text/plain": [
       "469"
      ]
     },
     "execution_count": 99,
     "metadata": {},
     "output_type": "execute_result"
    }
   ],
   "source": [
    "len(data)"
   ]
  },
  {
   "cell_type": "code",
   "execution_count": 101,
   "id": "42d2da77",
   "metadata": {},
   "outputs": [
    {
     "data": {
      "text/plain": [
       "6"
      ]
     },
     "execution_count": 101,
     "metadata": {},
     "output_type": "execute_result"
    }
   ],
   "source": [
    "len(data[0])"
   ]
  },
  {
   "cell_type": "code",
   "execution_count": 104,
   "id": "a8feefe2",
   "metadata": {},
   "outputs": [],
   "source": [
    "with open(\"jobs.csv\", 'w') as fid:\n",
    "    writer = csv.writer(fid)\n",
    "    header = ['link', 'title', 'location', 'company_name', 'description', 'post_time']\n",
    "    writer.writerow(header)\n",
    "    writer.writerows(data)"
   ]
  },
  {
   "cell_type": "code",
   "execution_count": null,
   "id": "e1cea329",
   "metadata": {},
   "outputs": [],
   "source": []
  }
 ],
 "metadata": {
  "kernelspec": {
   "display_name": "Python 3 (ipykernel)",
   "language": "python",
   "name": "python3"
  },
  "language_info": {
   "codemirror_mode": {
    "name": "ipython",
    "version": 3
   },
   "file_extension": ".py",
   "mimetype": "text/x-python",
   "name": "python",
   "nbconvert_exporter": "python",
   "pygments_lexer": "ipython3",
   "version": "3.9.15"
  }
 },
 "nbformat": 4,
 "nbformat_minor": 5
}
